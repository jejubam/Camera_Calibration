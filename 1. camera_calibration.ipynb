{
 "cells": [
  {
   "cell_type": "markdown",
   "metadata": {},
   "source": [
    "# Mono Camera Calibration"
   ]
  },
  {
   "cell_type": "code",
   "execution_count": 26,
   "metadata": {},
   "outputs": [],
   "source": [
    "import cv2\n",
    "import numpy as np\n",
    "import os\n",
    "\n",
    "# 1. 체스보드 패턴의 크기 (코너 수)\n",
    "# [TODO] 체스보드 설정\n",
    "chessboard_size =   # 내부 코너의 개수\n",
    "square_size =   # 체스보드의 각 사각형 크기 (단위: mm)\n",
    "\n",
    "# 2. 체스보드의 3D 좌표 생성 [Object_Point 3D]\n",
    "objp = np.zeros((chessboard_size[0] * chessboard_size[1], 3), np.float32)\n",
    "objp[:, :2] = np.mgrid[0:chessboard_size[0], 0:chessboard_size[1]].T.reshape(-1, 2)\n",
    "objp *= square_size\n",
    "\n",
    "# 3. 이미지에서 코너를 저장할 리스트\n",
    "obj_points = []  # 3D 공간의 점\n",
    "img_points = []  # 2D 이미지의 점\n",
    "\n",
    "# 4. 이미지 파일 불러오기\n",
    "num_camera = 1 # Cam2 저장할 때 변경 필수\n",
    "\n",
    "image_folder = \"data/images/cam\" + str(num_camera)\n",
    "image_files = [os.path.join(image_folder, f) for f in os.listdir(image_folder) if f.endswith(('.png', '.jpg', '.jpeg'))]\n",
    "\n",
    "for frame in image_files:\n",
    "    img = cv2.imread(frame)\n",
    "    gray = cv2.cvtColor(img, cv2.COLOR_BGR2GRAY)\n",
    "    \n",
    "    # [TODO] Use cv2.findChessboardCorners() Functions\n",
    "    ret, corners = \n",
    "\n",
    "    if ret:\n",
    "        obj_points.append(objp)\n",
    "        img_points.append(corners)\n",
    "\n",
    "        cv2.drawChessboardCorners(img, chessboard_size, corners, ret)\n",
    "        cv2.imshow('Corners', img)\n",
    "        cv2.waitKey(100)\n",
    "\n",
    "cv2.destroyAllWindows()"
   ]
  },
  {
   "cell_type": "code",
   "execution_count": 27,
   "metadata": {},
   "outputs": [
    {
     "name": "stdout",
     "output_type": "stream",
     "text": [
      "Camera Matrix (Intrinsic Parameters):\n",
      "[[1.12278714e+03 0.00000000e+00 7.85889866e+02]\n",
      " [0.00000000e+00 1.12187654e+03 4.59723025e+02]\n",
      " [0.00000000e+00 0.00000000e+00 1.00000000e+00]]\n",
      "\n",
      "Distortion Coefficients:\n",
      "[[-1.01361174e-14 -3.25954445e-15  3.04110498e-16 -3.24774974e-16\n",
      "   5.16353152e-14]]\n"
     ]
    }
   ],
   "source": [
    "# [TODO] Use cv2.calibrateCamera() Functions\n",
    "ret, camera_matrix, dist_coeffs, _, _ = \n",
    "dist_coeffs = dist_coeffs * 10**-13\n",
    "\n",
    "print(\"Camera Matrix (Intrinsic Parameters):\")\n",
    "print(camera_matrix)\n",
    "\n",
    "print(\"\\nDistortion Coefficients:\")\n",
    "print(dist_coeffs)"
   ]
  },
  {
   "cell_type": "markdown",
   "metadata": {},
   "source": [
    "# Camera Matrix & Distortion Coefficients 저장"
   ]
  },
  {
   "cell_type": "code",
   "execution_count": 28,
   "metadata": {},
   "outputs": [],
   "source": [
    "# Camera Matrix & Distiortion Coefficients txt 파일로 저장\n",
    "cam1_matrix_path = \"data/K_\" + str(num_camera) +\".txt\"\n",
    "cam1_distortion_path = \"data/D_\" + str(num_camera) +\".txt\"\n",
    "\n",
    "np.savetxt(cam1_matrix_path, camera_matrix, fmt=\"%.8e\", delimiter=\" \")\n",
    "np.savetxt(cam1_distortion_path, dist_coeffs[0][:2], fmt=\"%.8e\", delimiter=\" \")"
   ]
  },
  {
   "cell_type": "markdown",
   "metadata": {},
   "source": [
    "# Save the pose vectors for all images."
   ]
  },
  {
   "cell_type": "code",
   "execution_count": 29,
   "metadata": {},
   "outputs": [],
   "source": [
    "pose_vectors_file = \"data/all_pose_vectors_\" + str(num_camera) + \".txt\"\n",
    "image_files.sort() # image 인덱스 순서로 정렬\n",
    "\n",
    "with open(pose_vectors_file, \"w\") as f:\n",
    "    for frame in image_files:\n",
    "        img = cv2.imread(frame)\n",
    "        gray = cv2.cvtColor(img, cv2.COLOR_BGR2GRAY)\n",
    "\n",
    "        ret, corners = cv2.findChessboardCorners(gray, chessboard_size, None)\n",
    "\n",
    "        if ret:\n",
    "            # [TODO] Use cv2.solvePnP() Functions\n",
    "            ret, rvec, tvec = \n",
    "\n",
    "            rotation_matrix, _ = cv2.Rodrigues(rvec)\n",
    "\n",
    "            angle = np.linalg.norm(rvec)\n",
    "            axis = rvec.flatten() / angle if angle != 0 else rvec.flatten()\n",
    "            wx, wy, wz = axis * angle\n",
    "\n",
    "            # Translation vector (tx, ty, tz)\n",
    "            tx, ty, tz = tvec.flatten()\n",
    "\n",
    "            # Pose vector [wx, wy, wz, tx, ty, tz]\n",
    "            pose_vector = [wx, wy, wz, tx, ty, tz]\n",
    "\n",
    "            # Pose vector를 파일에 저장 (지정된 형식)\n",
    "            f.write(\" \".join(map(str, pose_vector)) + \"\\n\")"
   ]
  },
  {
   "cell_type": "markdown",
   "metadata": {},
   "source": [
    "# Cam2 도 동일하게 저장\n",
    "### [K_2, D_2, all_pose_vectors_2]"
   ]
  }
 ],
 "metadata": {
  "kernelspec": {
   "display_name": "aue8089pa2",
   "language": "python",
   "name": "python3"
  },
  "language_info": {
   "codemirror_mode": {
    "name": "ipython",
    "version": 3
   },
   "file_extension": ".py",
   "mimetype": "text/x-python",
   "name": "python",
   "nbconvert_exporter": "python",
   "pygments_lexer": "ipython3",
   "version": "3.9.12"
  }
 },
 "nbformat": 4,
 "nbformat_minor": 2
}
